{
  "nbformat": 4,
  "nbformat_minor": 0,
  "metadata": {
    "colab": {
      "name": "MENTAL HEALTH CHATBOT.ipynb",
      "provenance": [],
      "collapsed_sections": []
    },
    "kernelspec": {
      "name": "python3",
      "display_name": "Python 3"
    },
    "language_info": {
      "name": "python"
    }
  },
  "cells": [
    {
      "cell_type": "markdown",
      "metadata": {
        "id": "wJH-TqUDdj6b"
      },
      "source": [
        "## IMPORTING LIBRARIES"
      ]
    },
    {
      "cell_type": "code",
      "metadata": {
        "id": "_nJgciXOPbBd"
      },
      "source": [
        "import numpy as np\n",
        "import pandas as pd\n",
        "import string\n",
        "import os\n",
        "import matplotlib.pyplot as plt\n",
        "import csv\n",
        "import time"
      ],
      "execution_count": null,
      "outputs": []
    },
    {
      "cell_type": "markdown",
      "metadata": {
        "id": "5AUms_gpd0qR"
      },
      "source": [
        "### DEFINING LIST OF CATEGORIES"
      ]
    },
    {
      "cell_type": "code",
      "metadata": {
        "id": "Qq9HxIl5ZaBH"
      },
      "source": [
        "categories = [\"Addiction\",\n",
        "              \"Anger Management\",\n",
        "              \"Anxiety\",\n",
        "              \"Behavioral Change\",\n",
        "              \"Conflict\",\n",
        "              \"Depression\",\n",
        "              \"Human Sexuality\",\n",
        "              \"Intimacy\",\n",
        "              \"Legal & Regulatory\",\n",
        "              \"LGBTQ\",\n",
        "              \"Marriage\",\n",
        "              \"Parenting\",\n",
        "              \"Relationships\",\n",
        "              \"Self-esteem\",\n",
        "              \"Stress\",\n",
        "              \"Trauma\"]"
      ],
      "execution_count": null,
      "outputs": []
    },
    {
      "cell_type": "markdown",
      "metadata": {
        "id": "kuW15aGTd-_M"
      },
      "source": [
        "### CREATING A DATAFRAME FOR CATEGORIES"
      ]
    },
    {
      "cell_type": "code",
      "metadata": {
        "colab": {
          "base_uri": "https://localhost:8080/",
          "height": 551
        },
        "id": "vxCJS-Tfbyif",
        "outputId": "3a68f170-44cb-4209-e145-c43afb354ddf"
      },
      "source": [
        "df = pd.DataFrame(categories, index =['a', 'b', 'c', 'd', 'e', 'f', 'g','h', 'i', 'j', 'k', 'l', 'm', 'n', 'o', 'p'],columns =['Categories'])\n",
        "df"
      ],
      "execution_count": null,
      "outputs": [
        {
          "output_type": "execute_result",
          "data": {
            "text/html": [
              "<div>\n",
              "<style scoped>\n",
              "    .dataframe tbody tr th:only-of-type {\n",
              "        vertical-align: middle;\n",
              "    }\n",
              "\n",
              "    .dataframe tbody tr th {\n",
              "        vertical-align: top;\n",
              "    }\n",
              "\n",
              "    .dataframe thead th {\n",
              "        text-align: right;\n",
              "    }\n",
              "</style>\n",
              "<table border=\"1\" class=\"dataframe\">\n",
              "  <thead>\n",
              "    <tr style=\"text-align: right;\">\n",
              "      <th></th>\n",
              "      <th>Categories</th>\n",
              "    </tr>\n",
              "  </thead>\n",
              "  <tbody>\n",
              "    <tr>\n",
              "      <th>a</th>\n",
              "      <td>Addiction</td>\n",
              "    </tr>\n",
              "    <tr>\n",
              "      <th>b</th>\n",
              "      <td>Anger Management</td>\n",
              "    </tr>\n",
              "    <tr>\n",
              "      <th>c</th>\n",
              "      <td>Anxiety</td>\n",
              "    </tr>\n",
              "    <tr>\n",
              "      <th>d</th>\n",
              "      <td>Behavioral Change</td>\n",
              "    </tr>\n",
              "    <tr>\n",
              "      <th>e</th>\n",
              "      <td>Conflict</td>\n",
              "    </tr>\n",
              "    <tr>\n",
              "      <th>f</th>\n",
              "      <td>Depression</td>\n",
              "    </tr>\n",
              "    <tr>\n",
              "      <th>g</th>\n",
              "      <td>Human Sexuality</td>\n",
              "    </tr>\n",
              "    <tr>\n",
              "      <th>h</th>\n",
              "      <td>Intimacy</td>\n",
              "    </tr>\n",
              "    <tr>\n",
              "      <th>i</th>\n",
              "      <td>Legal &amp; Regulatory</td>\n",
              "    </tr>\n",
              "    <tr>\n",
              "      <th>j</th>\n",
              "      <td>LGBTQ</td>\n",
              "    </tr>\n",
              "    <tr>\n",
              "      <th>k</th>\n",
              "      <td>Marriage</td>\n",
              "    </tr>\n",
              "    <tr>\n",
              "      <th>l</th>\n",
              "      <td>Parenting</td>\n",
              "    </tr>\n",
              "    <tr>\n",
              "      <th>m</th>\n",
              "      <td>Relationships</td>\n",
              "    </tr>\n",
              "    <tr>\n",
              "      <th>n</th>\n",
              "      <td>Self-esteem</td>\n",
              "    </tr>\n",
              "    <tr>\n",
              "      <th>o</th>\n",
              "      <td>Stress</td>\n",
              "    </tr>\n",
              "    <tr>\n",
              "      <th>p</th>\n",
              "      <td>Trauma</td>\n",
              "    </tr>\n",
              "  </tbody>\n",
              "</table>\n",
              "</div>"
            ],
            "text/plain": [
              "           Categories\n",
              "a           Addiction\n",
              "b    Anger Management\n",
              "c             Anxiety\n",
              "d   Behavioral Change\n",
              "e            Conflict\n",
              "f          Depression\n",
              "g     Human Sexuality\n",
              "h            Intimacy\n",
              "i  Legal & Regulatory\n",
              "j               LGBTQ\n",
              "k            Marriage\n",
              "l           Parenting\n",
              "m       Relationships\n",
              "n         Self-esteem\n",
              "o              Stress\n",
              "p              Trauma"
            ]
          },
          "metadata": {},
          "execution_count": 3
        }
      ]
    },
    {
      "cell_type": "markdown",
      "metadata": {
        "id": "jStpidMFeOCV"
      },
      "source": [
        "## IMPORTING DATASET"
      ]
    },
    {
      "cell_type": "code",
      "metadata": {
        "id": "1Gc-h7iGh26a",
        "colab": {
          "base_uri": "https://localhost:8080/",
          "height": 493
        },
        "outputId": "8ec59fe4-084a-4467-db53-290b57996e03"
      },
      "source": [
        "data = pd.read_csv(\"/content/counselchat-data.csv\")\n",
        "data"
      ],
      "execution_count": null,
      "outputs": [
        {
          "output_type": "execute_result",
          "data": {
            "text/html": [
              "<div>\n",
              "<style scoped>\n",
              "    .dataframe tbody tr th:only-of-type {\n",
              "        vertical-align: middle;\n",
              "    }\n",
              "\n",
              "    .dataframe tbody tr th {\n",
              "        vertical-align: top;\n",
              "    }\n",
              "\n",
              "    .dataframe thead th {\n",
              "        text-align: right;\n",
              "    }\n",
              "</style>\n",
              "<table border=\"1\" class=\"dataframe\">\n",
              "  <thead>\n",
              "    <tr style=\"text-align: right;\">\n",
              "      <th></th>\n",
              "      <th>ID</th>\n",
              "      <th>questionTitle</th>\n",
              "      <th>topics</th>\n",
              "      <th>0</th>\n",
              "    </tr>\n",
              "  </thead>\n",
              "  <tbody>\n",
              "    <tr>\n",
              "      <th>0</th>\n",
              "      <td>1</td>\n",
              "      <td>How do I help my husband get over his drinking...</td>\n",
              "      <td>Addiction</td>\n",
              "      <td>By being truthful with him about how his drink...</td>\n",
              "    </tr>\n",
              "    <tr>\n",
              "      <th>1</th>\n",
              "      <td>4</td>\n",
              "      <td>Why does it feel as if self-harm is an addiction?</td>\n",
              "      <td>Addiction,Depression,Self-harm</td>\n",
              "      <td>In a way, self-harm can present somewhat like ...</td>\n",
              "    </tr>\n",
              "    <tr>\n",
              "      <th>2</th>\n",
              "      <td>5</td>\n",
              "      <td>My husband was lying about drinking again.</td>\n",
              "      <td>Addiction,Marriage,Intimacy</td>\n",
              "      <td>So your husband is giving you mixed messages. ...</td>\n",
              "    </tr>\n",
              "    <tr>\n",
              "      <th>3</th>\n",
              "      <td>8</td>\n",
              "      <td>The organization I work for has told me I cann...</td>\n",
              "      <td>Addiction,Professional Ethics</td>\n",
              "      <td>Hello, and thank you for your question. I know...</td>\n",
              "    </tr>\n",
              "    <tr>\n",
              "      <th>4</th>\n",
              "      <td>10</td>\n",
              "      <td>How can I stop abusing alcohol?</td>\n",
              "      <td>Addiction,Substance Abuse</td>\n",
              "      <td>You may feel hopeless but YOU are not hopeless...</td>\n",
              "    </tr>\n",
              "    <tr>\n",
              "      <th>...</th>\n",
              "      <td>...</td>\n",
              "      <td>...</td>\n",
              "      <td>...</td>\n",
              "      <td>...</td>\n",
              "    </tr>\n",
              "    <tr>\n",
              "      <th>747</th>\n",
              "      <td>1473</td>\n",
              "      <td>How do I deal with depersonalisation and derea...</td>\n",
              "      <td>Stress, Anxiety</td>\n",
              "      <td>Typically depersonalization disorder is diagno...</td>\n",
              "    </tr>\n",
              "    <tr>\n",
              "      <th>748</th>\n",
              "      <td>1474</td>\n",
              "      <td>What are the general prognosis for ultradian c...</td>\n",
              "      <td>Stress, Anxiety</td>\n",
              "      <td>The general prognosis for anyone is good, so l...</td>\n",
              "    </tr>\n",
              "    <tr>\n",
              "      <th>749</th>\n",
              "      <td>1475</td>\n",
              "      <td>Is it normal for a pregnant woman to cry over ...</td>\n",
              "      <td>Anxiety, Stress</td>\n",
              "      <td>It is very typical for pregnant moms to feel c...</td>\n",
              "    </tr>\n",
              "    <tr>\n",
              "      <th>750</th>\n",
              "      <td>1476</td>\n",
              "      <td>Why do I see things that are not actually there?</td>\n",
              "      <td>Trauma, Stress</td>\n",
              "      <td>It's important to make an appointment with a n...</td>\n",
              "    </tr>\n",
              "    <tr>\n",
              "      <th>751</th>\n",
              "      <td>1477</td>\n",
              "      <td>Why does the voice in my head never stop?</td>\n",
              "      <td>Stress, Anxiety</td>\n",
              "      <td>Does the voice in your head sound different or...</td>\n",
              "    </tr>\n",
              "  </tbody>\n",
              "</table>\n",
              "<p>752 rows × 4 columns</p>\n",
              "</div>"
            ],
            "text/plain": [
              "       ID  ...                                                  0\n",
              "0       1  ...  By being truthful with him about how his drink...\n",
              "1       4  ...  In a way, self-harm can present somewhat like ...\n",
              "2       5  ...  So your husband is giving you mixed messages. ...\n",
              "3       8  ...  Hello, and thank you for your question. I know...\n",
              "4      10  ...  You may feel hopeless but YOU are not hopeless...\n",
              "..    ...  ...                                                ...\n",
              "747  1473  ...  Typically depersonalization disorder is diagno...\n",
              "748  1474  ...  The general prognosis for anyone is good, so l...\n",
              "749  1475  ...  It is very typical for pregnant moms to feel c...\n",
              "750  1476  ...  It's important to make an appointment with a n...\n",
              "751  1477  ...  Does the voice in your head sound different or...\n",
              "\n",
              "[752 rows x 4 columns]"
            ]
          },
          "metadata": {},
          "execution_count": 4
        }
      ]
    },
    {
      "cell_type": "markdown",
      "source": [
        "### Category Description"
      ],
      "metadata": {
        "id": "J2CoAmfDBBKQ"
      }
    },
    {
      "cell_type": "code",
      "metadata": {
        "id": "uyBZPJ6bhAu3"
      },
      "source": [
        "category_description = [\n",
        "                        \"There are many reasons why people might use drugs and alcohol.Some people use them to try and deal with their symptoms of their mental illness. This is often called 'self-medication'.\\n But Drugs and alcohol can make the symptoms of your mental illness worse.Some drugs may make it more likely for you to get a mental illness, and they may make it harder to treat.\",\n",
        "                        \"Anger is a normal and even healthy emotion — but it's important to deal with it in a positive way. Uncontrolled anger can take a toll on both your health and your relationships.\\n Learning to control anger is a challenge for everyone at times. I am here to help you deal with anger issues if your anger seems out of control, causes you to do things you regret or hurts those around you.\",\n",
        "                        \"Anxiety is a normal reaction to stress and can be beneficial in some situations. It can alert you about dangers and help you prepare and pay attention. \\nIt can differ from normal feelings of nervousness or anxiousness, and involve excessive fear or anxiety. These feelings are difficult to control, are out of proportion to the actual danger and can last a long time.Therefore, it is important to seek help. \",\n",
        "                        \"The amount and pace of transformation around us is overwhelming. Change has become the new normal. You must know what drives your actions, how behaviour patterns are created so that you can focus on the question - how you can overcome these patterns.\\n Obviously this is not a simple exercise, as you have to consider the main aspects influencing your behaviour, So I am here to help you with the challenge.\",\n",
        "                        \"Conflict is inevitable. Relationships in which people never fight are not always as blissful as they seem. When anger is suppressed or unacknowledged by partners or family members, it can actually be unhealthy.\\n So, it is okay to have a few conflicts, disagreements and fights over some issues. You just need some help out there to deal with them, and that's why I am here for you.\",\n",
        "                        \"We all have times when we feel down, but depression is about more than feeling sad or fed up for a few days. Depression causes a low mood that lasts a long time and affects your daily life.\\n Depression affects people in different ways. Most people feel sad or hopeless and there are a range of other symptoms. You just need the right advice to deal with it, and that's why I am here for you!\",\n",
        "                        \"Human sexuality plays a major role in an individual's existence and functioning. In addition, rightly or wrongly sexuality often defines people and also affects social attitudes. These attitudes, if negative, can contribute to stigma and prevent people from help seeking if they are suffering from mental health problems. So you can reach out to me to help you deal with the problems.\",\n",
        "                        \"While most people assume that intimacy is something we only experience physically, intimacy also depends on, and greatly impacts, our brains. In fact, mental wellbeing and intimacy are so closely related that each can affect the other.\\n No matter whether it’s physical or emotional, relational closeness can impact, and be impacted by, mental health. Thus, it is important to deal with it.\",\n",
        "                        \"While you are facing some legal issues that may cause you stress, anxiety and depression, it is important to clearly understand and comtemplate over the situation. It will help you deal with the problem better.\\n Also, you need to take things slow and steady so deal with the issues. And of course, I am here to help you with it.\",\n",
        "                        \"First of all, It is really important to know that identifying as LGBTQ+ is NOT a mental illness or disorder.There are many negative stereotypes about being LGBTQ+ which makes many uncomfortable letting people know this important part of their identity.\\n When people do openly express this part of themselves, they face the potential of rejection can exacerbate feelings of loneliness. So I understand. You can openly talk to me about everything.\",\n",
        "                        \"Much like any other life-impacting decision, marriage can be both exciting and challenging. Being in a happy marriage is related to better psychological and physical health. Likewise, a bad marriage with frequent conflicts could have a serious detrimental impact on your health.\\n The most important step is to have an open dialogue with your spouse specifying a clear agenda of a successful relationship and work as a team towards the goal of a harmonious, happy relationship\",\n",
        "                        \"Parenting can undoubtedly be a difficult task. Good parenting involves a great deal of consistency and routine, which gives children a sense of control. \\n According to the best available research the best parenting style is an authoritative style which is a balance of firmness and nurturance. But sometimes, it becomes impossible to maintain this balance and it creates issues between you and your child. Know that it's totally okay and you can deal with it with the right advice. \",\n",
        "                        \"Social relationships—both quantity and quality—affect mental health, health behavior, physical health, and mortality risk. Social isolation has long been known as a key trigger for mental illness, while supportive relationships with friends, family and neighbours are beneficial to the mental health of individuals and the population. \\n Presently, you might be facing issues and problems in your relationship, but with right understamding, you can surely overcome them.\",\n",
        "                        \"Self-esteem is how you value and perceive yourselves. It's based on your opinions and beliefs about yourselves, which can sometimes feel really difficult to change. \\n Your self-esteem might change suddenly, or you might have had low self-esteem for a while​ – which might make it hard to recognise how you feel and make changes. Therefore, it is important to deal with it right away.\",\n",
        "                        \"Stress is the feeling of being overwhelmed or unable to cope with mental or emotional pressure. It is often triggered when we experience something new, unexpected or that threatens our sense of self, or when we feel we have little control over a situation. We all deal with stress differently. \\n too much stress can cause negative effects. It can leave us in a permanent stage of fight or flight, leaving us overwhelmed. So I'm here to help you cope up with it.\",\n",
        "                        \"Going through very stressful, frightening or distressing events is sometimes called trauma. Going through trauma can cause you to start being affected by past experiences, or make existing problems worse. It's ok to ask for help at any time – including if you're not sure if you've experienced trauma. So, you can reach out to me anytime, I'm here to help!\"\n",
        "                        ]"
      ],
      "execution_count": null,
      "outputs": []
    },
    {
      "cell_type": "code",
      "metadata": {
        "colab": {
          "base_uri": "https://localhost:8080/",
          "height": 87
        },
        "id": "YpGIMuqH7wCt",
        "outputId": "9253c891-3246-43e1-8515-0242826e3e47"
      },
      "source": [
        "category_description[10]"
      ],
      "execution_count": null,
      "outputs": [
        {
          "output_type": "execute_result",
          "data": {
            "application/vnd.google.colaboratory.intrinsic+json": {
              "type": "string"
            },
            "text/plain": [
              "'Much like any other life-impacting decision, marriage can be both exciting and challenging. Being in a happy marriage is related to better psychological and physical health. Likewise, a bad marriage with frequent conflicts could have a serious detrimental impact on your health.\\n The most important step is to have an open dialogue with your spouse specifying a clear agenda of a successful relationship and work as a team towards the goal of a harmonious, happy relationship'"
            ]
          },
          "metadata": {},
          "execution_count": 12
        }
      ]
    },
    {
      "cell_type": "markdown",
      "metadata": {
        "id": "fqlEEiWEeRM3"
      },
      "source": [
        "## FUNCTIONS FOR BOT"
      ]
    },
    {
      "cell_type": "code",
      "metadata": {
        "id": "FINRPltQ5L5s"
      },
      "source": [
        "def display_description(number):\n",
        "  num = int(number) - 1\n",
        "  print(category_description[num])"
      ],
      "execution_count": null,
      "outputs": []
    },
    {
      "cell_type": "markdown",
      "metadata": {
        "id": "ggKBu_LneWD2"
      },
      "source": [
        "#### FUNCTION TO DISPLAY QUESTIONS ACCORDING TO THE CATEGORY ENTERED"
      ]
    },
    {
      "cell_type": "code",
      "metadata": {
        "id": "10ZFEOl7fTck"
      },
      "source": [
        "def display_questions(category):\n",
        "  category = str(category)\n",
        "  indices = np.where(data['topics'].str.contains(category)) ## tuple\n",
        "  indices_list = list(indices)\n",
        "  print(\"BOT: Choose a question from the following\")\n",
        "  for index in indices_list:\n",
        "    print(data.iloc[index, 1])\n",
        "    time.sleep(1)"
      ],
      "execution_count": null,
      "outputs": []
    },
    {
      "cell_type": "markdown",
      "metadata": {
        "id": "23O7iuloemkI"
      },
      "source": [
        "#### TO DISPLAY ANSWER TO THE QUESTION ASKED"
      ]
    },
    {
      "cell_type": "code",
      "metadata": {
        "id": "sI5SbFPSNMVp"
      },
      "source": [
        "def display_response(question_index):\n",
        "  print(\"BOT: Your question is - \"+ data.iloc[int(question_index), 1])\n",
        "  print(\"BOT: \"+ data.iloc[int(question_index), 3])"
      ],
      "execution_count": null,
      "outputs": []
    },
    {
      "cell_type": "markdown",
      "metadata": {
        "id": "7kYqyJuXesqk"
      },
      "source": [
        "#### MAIN FUNCTIONING"
      ]
    },
    {
      "cell_type": "code",
      "metadata": {
        "id": "pcxO68BQeVii"
      },
      "source": [
        "def bot_main():\n",
        "  print(\"BOT: Choose from the categories below.\")\n",
        "  print(df)\n",
        "  time.sleep(6)\n",
        "  print(\"BOT: Enter the alphabet: \")\n",
        "  alph = input(name+\":\")\n",
        "  try:\n",
        "    number = ord(alph) - 96    \n",
        "  except(TypeError):\n",
        "    print(\"BOT: Sorry, I don't understand.\")\n",
        "    bot_main()\n",
        "  else:\n",
        "    category = categories[number-1]\n",
        "    display_description(number)\n",
        "    time.sleep(20)\n",
        "    print(\"BOT: Here is a list of questions I can answer - \")\n",
        "    display_questions(category)\n",
        "\n",
        "    print(\"BOT: Enter the index number of question you want to get answered...\")\n",
        "    question_index = input(name+\": \")\n",
        "\n",
        "    display_response(question_index)\n",
        "    time.sleep(30)\n",
        "    print(\"BOT: Hope that helped!\")\n",
        "    time.sleep(3)\n"
      ],
      "execution_count": null,
      "outputs": []
    },
    {
      "cell_type": "markdown",
      "metadata": {
        "id": "t28tS53ne1d-"
      },
      "source": [
        "#### TO DISPLAY QUESTIONS IF MORE THAN ONE IS ASKED "
      ]
    },
    {
      "cell_type": "code",
      "metadata": {
        "id": "kh5NeYeAfCG-"
      },
      "source": [
        "def more_questions():\n",
        "    print(\"BOT: Do you want to change the category? Yes/No\")\n",
        "    answer2 = input(name+\": \")\n",
        "    if answer2.lower() == \"yes\":\n",
        "        bot_main()\n",
        "    else:\n",
        "      display_questions(category)\n",
        "      print(\"BOT: Enter the index number of question you want to get answered...\")\n",
        "      question_index = input(name+\": \")\n",
        "\n",
        "      display_response(question_index)\n",
        "      time.sleep(30)\n",
        "      print(\"BOT: Hope that helped!\")\n",
        "      time.sleep(3)\n",
        "    print(\"BOT: Do you have further questions?... Yes/No\")\n",
        "    answer = input(name+\": \")\n",
        "    if (answer.lower() == \"yes\"):\n",
        "      more_questions()\n",
        "    else:\n",
        "      print(\"BOT: I am always here for you. You can reach out to me anytime. I will always be happy to answer your questions.\")\n"
      ],
      "execution_count": null,
      "outputs": []
    },
    {
      "cell_type": "markdown",
      "metadata": {
        "id": "-laF3PQde9Xr"
      },
      "source": [
        "## CHATBOT"
      ]
    },
    {
      "cell_type": "code",
      "metadata": {
        "id": "Pij68FUYPf8v",
        "colab": {
          "base_uri": "https://localhost:8080/"
        },
        "outputId": "50c7ae5c-5c17-4b97-d990-55fa8aedde2f"
      },
      "source": [
        "print(\"BOT: Hey there! I am chatbot. I am glad we are talking. Please enter your name:...\")\n",
        "name = input()\n",
        "print(\"BOT: Hi \"+ name + \"! Before we start talking, take a few deep breaths and clear your head.\")\n",
        "time.sleep(3)\n",
        "print(\"BOT: Whenever you are ready, type yes below.\")\n",
        "time.sleep(2)\n",
        "response = input(name+\":\")\n",
        "response.lower()\n",
        "if response == \"yes\":\n",
        "  print(\"BOT: Let's start with a question. \\n What kind of problems are you dealing with?\")\n",
        "  time.sleep(2)\n",
        "  bot_main()\n",
        "  \n",
        "  print(\"BOT: Do you have further questions?... Yes/No\")\n",
        "  answer = input(name+\": \")\n",
        "  if (answer.lower() == \"yes\"):\n",
        "      more_questions()\n",
        "  else:\n",
        "    print(\"BOT: I am always here for you. You can reach out to me anytime. I will always be happy to answer your questions.\")\n"
      ],
      "execution_count": null,
      "outputs": [
        {
          "output_type": "stream",
          "name": "stdout",
          "text": [
            "BOT: Hey there! I am chatbot. I am glad we are talking. Please enter your name:...\n",
            "Sarah\n",
            "BOT: Hi Sarah! Before we start talking, take a few deep breaths and clear your head.\n",
            "BOT: Whenever you are ready, type yes below.\n",
            "Sarah:yes\n",
            "BOT: Let's start with a question. \n",
            " What kind of problems are you dealing with?\n",
            "BOT: Choose from the categories below.\n",
            "           Categories\n",
            "a           Addiction\n",
            "b    Anger Management\n",
            "c             Anxiety\n",
            "d   Behavioral Change\n",
            "e            Conflict\n",
            "f          Depression\n",
            "g     Human Sexuality\n",
            "h            Intimacy\n",
            "i  Legal & Regulatory\n",
            "j               LGBTQ\n",
            "k            Marriage\n",
            "l           Parenting\n",
            "m       Relationships\n",
            "n         Self-esteem\n",
            "o              Stress\n",
            "p              Trauma\n",
            "BOT: Enter the alphabet: \n",
            "Sarah:j\n",
            "First of all, It is really important to know that identifying as LGBTQ+ is NOT a mental illness or disorder.There are many negative stereotypes about being LGBTQ+ which makes many uncomfortable letting people know this important part of their identity.\n",
            " When people do openly express this part of themselves, they face the potential of rejection can exacerbate feelings of loneliness. So I understand. You can openly talk to me about everything.\n",
            "BOT: Here is a list of questions I can answer - \n",
            "BOT: Choose a question from the following\n",
            "262      I'm scared to tell my family that I'm bisexual.\n",
            "263    How can I tell my dad I'm a female-to-male tra...\n",
            "264    My dad is mad because I identify as a male and...\n",
            "317    How can I deal with gender dysphoria in a posi...\n",
            "318    I crossdress and I don't know how to feel abou...\n",
            "319              How do I tell a girl that I crossdress?\n",
            "357    How can I determine if I should be a boy or girl?\n",
            "358                          I'm going through dysphoria\n",
            "359    How do I go about asking my ex-girlfriend to e...\n",
            "360        How do I cure myself of being a transvestite?\n",
            "361        I'm transgender. I want help and I need help.\n",
            "362    I think I can become a transgender, but how ca...\n",
            "363                        I'm questioning my sexuality.\n",
            "364                             I’m afraid that I’m gay.\n",
            "365        How can I know what my sexual orientation is?\n",
            "366           Am I gay if I like neither girls nor guys?\n",
            "367                 I'm starting to believe that I'm gay\n",
            "368                    How do I know if I'm transgender?\n",
            "369    What does it mean that I feel like different g...\n",
            "370    Do I have to go to counseling to get hormones ...\n",
            "371         How do I know what my sexual orientation is?\n",
            "372    I'm in a lesbian relationship, and my mother d...\n",
            "373               How do I tell my parents that I'm gay?\n",
            "374    What can I do about my family not accepting me...\n",
            "375    What can I do when my family doesn't accept my...\n",
            "376    Is it normal for married men to fantasize abou...\n",
            "377    I want to have sexual experiences with adults,...\n",
            "378                Am I a lesbian because I love a girl?\n",
            "398    Why does my husband like dressing as a female ...\n",
            "581    Why is he treating me like I am not a good woman?\n",
            "608    I'm soon to be married, and I've been messing ...\n",
            "657            i feel like i was born in the wrong body.\n",
            "695                       My wife outed me to her sister\n",
            "Name: questionTitle, dtype: object\n",
            "BOT: Enter the index number of question you want to get answered...\n",
            "Sarah: 357\n",
            "BOT: Your question is - How can I determine if I should be a boy or girl?\n",
            "BOT: I understand that gender andor sexual identity crises can be very difficult to navigate, although in todayâs time I think we have made a lot of progress and it is becoming easier for individuals to find themselves and also find acceptance from society.I am unsure how old you are.  If you are a child or teenager, this is a normal time to have identity questions and to be in a phase where you are trying to figure out who you are and what you want out of life.  I hope that you have understanding and supportive friends and family that you can talk to and who will support you in how you feel and what you may decide to do.  A lot of people, unfortunately, do not, and if this is the case then it makes it harder for you.  Because then you may not feel safe exploring these feelings and decisions.I urge you not to try to make any permanent changes for quite some time.  By this I mean a sex change.  Anything permanent like surgery or hormone replacement to change your actual gender is something that does not need to be done lightly.  Please find a therapist that can help you explore your feelings and your identity crisis.  Of course there are things that you can do that are not permanent changes.  Many people decide to dress like their gender of choice.  Maybe experimenting in this way is something that you could do.See if you have a local chapter of PFLAG in your area. PFLAG stands for Parents, Families and Friends of Lesbians and Gays.  They are able to help not only with those who identify as lesbian or gay, but also transgendered and asexual. I wish you all the best in your identity crisis.  It would be very easy for you to sink into depression if you do not have good support and understanding from those around you during this time.  Find a professional that can help, especially if you experience depression or any thoughts of harming yourself.\n",
            "BOT: Hope that helped!\n",
            "BOT: Do you have further questions?... Yes/No\n",
            "Sarah: yes\n",
            "BOT: Do you want to change the category? Yes/No\n",
            "Sarah: yes\n",
            "BOT: Choose from the categories below.\n",
            "           Categories\n",
            "a           Addiction\n",
            "b    Anger Management\n",
            "c             Anxiety\n",
            "d   Behavioral Change\n",
            "e            Conflict\n",
            "f          Depression\n",
            "g     Human Sexuality\n",
            "h            Intimacy\n",
            "i  Legal & Regulatory\n",
            "j               LGBTQ\n",
            "k            Marriage\n",
            "l           Parenting\n",
            "m       Relationships\n",
            "n         Self-esteem\n",
            "o              Stress\n",
            "p              Trauma\n",
            "BOT: Enter the alphabet: \n",
            "Sarah:f\n",
            "We all have times when we feel down, but depression is about more than feeling sad or fed up for a few days. Depression causes a low mood that lasts a long time and affects your daily life.\n",
            " Depression affects people in different ways. Most people feel sad or hopeless and there are a range of other symptoms. You just need the right advice to deal with it, and that's why I am here for you!\n",
            "BOT: Here is a list of questions I can answer - \n",
            "BOT: Choose a question from the following\n",
            "1      Why does it feel as if self-harm is an addiction?\n",
            "22                I get so angry that I want to explode.\n",
            "61     How do I get over anxiety, depression, and iso...\n",
            "62          I hate talking to people much less strangers\n",
            "63     How do I fight inner loneliness from depressio...\n",
            "                             ...                        \n",
            "691                Why have I been feeling empty lately?\n",
            "732    Is it possible to get PTSD from being very dep...\n",
            "733    How can I get over my posttraumatic stress dis...\n",
            "734    How can I deal with my posttraumatic stress di...\n",
            "735         My husband makes me uncomfortable about sex.\n",
            "Name: questionTitle, Length: 117, dtype: object\n",
            "BOT: Enter the index number of question you want to get answered...\n",
            "Sarah: 62\n",
            "BOT: Your question is - I hate talking to people much less strangers\n",
            "BOT: Did you take the medication the way the psychiatrist prescribed it? Did you follow up with herhim to report how it was going? Different medications work differently with different people.  It's not always the first one that helps. And some of the medications take some time to have an effect. Give the doctor the chance to help you.I suggest you find a certified CBT therapist to help you examine your thinking. www.AcademyofCT.org has listings of the finest CBT clinicians. In the meantime, do some \"anxiety fasting\" by taking a few minutes to do something nice for yourself right now. I hope you feel better soon. ~Mark (www.MarkMorrisLCSW.com and www.LivingYes.org)\n",
            "BOT: Hope that helped!\n",
            "BOT: Do you have further questions?... Yes/No\n",
            "Sarah: no\n",
            "BOT: I am always here for you. You can reach out to me anytime. I will always be happy to answer your questions.\n"
          ]
        }
      ]
    }
  ]
}